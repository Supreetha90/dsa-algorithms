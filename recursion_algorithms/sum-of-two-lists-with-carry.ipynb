{
 "cells": [
  {
   "cell_type": "markdown",
   "id": "15694a54",
   "metadata": {},
   "source": [
    "# Calculate sum of the elements of the two lists when length of the lists are equal"
   ]
  },
  {
   "cell_type": "code",
   "execution_count": null,
   "id": "8bfe92f3",
   "metadata": {},
   "outputs": [],
   "source": [
    "def sum_list(l1,l2):\n",
    "    l3 = []\n",
    "    carry = 0\n",
    "    for i in range(0,len(l1)):\n",
    "        l = l1[i] + l2[i] + carry\n",
    "        digit = l % 10\n",
    "        carry = l//10\n",
    "        \n",
    "        l3.append(digit)\n",
    "    return l3\n",
    "    "
   ]
  },
  {
   "cell_type": "markdown",
   "id": "e4da7f51",
   "metadata": {},
   "source": [
    "# A function which returns the output of the list which has maximum length"
   ]
  },
  {
   "cell_type": "code",
   "execution_count": 242,
   "id": "d4bb258c",
   "metadata": {},
   "outputs": [],
   "source": [
    "def find_max_len_lists(lists_old):\n",
    "    #max_length_of_list = \n",
    "    length=[]\n",
    "    for i in lists_old:\n",
    "        length_lists = len(i)\n",
    "        length.append(length_lists)\n",
    "    #return display(max(length))\n",
    "    return max(length)\n",
    "        "
   ]
  },
  {
   "cell_type": "code",
   "execution_count": 275,
   "id": "7b81e6b1",
   "metadata": {},
   "outputs": [
    {
     "data": {
      "text/plain": [
       "7"
      ]
     },
     "execution_count": 275,
     "metadata": {},
     "output_type": "execute_result"
    }
   ],
   "source": [
    "find_max_len_lists(lists_old)\n",
    "#find_max_len_lists(lists)"
   ]
  },
  {
   "cell_type": "markdown",
   "id": "cb927ea9",
   "metadata": {},
   "source": [
    "# A function which appends the zeros to make the length of the lists equal"
   ]
  },
  {
   "cell_type": "code",
   "execution_count": 341,
   "id": "15d9aaf3",
   "metadata": {},
   "outputs": [],
   "source": [
    "def append_zero_for_list(lists_old):\n",
    "    max_length_list = find_max_len_lists(lists_old)\n",
    "    #display(max_length)\n",
    "    \n",
    "    for i in range(len(lists_old)):\n",
    "        length_actual_list = len(lists_old[i])\n",
    "        if length_actual_list < max_length_list:\n",
    "            #display(length_actual_list,max_length)\n",
    "            lists_old[i] += [0] * (max_length_list - length_actual_list)\n",
    "    #return lists_old\n",
    "    \n",
    "    #return lists_old"
   ]
  },
  {
   "cell_type": "code",
   "execution_count": 359,
   "id": "544dc435",
   "metadata": {},
   "outputs": [],
   "source": [
    "li1 = [2,3,4,5]\n",
    "li2 = [6,7,8,9,3,6,2]\n",
    "lists_old = [li1,li2]\n",
    "\n",
    "#li1 = [1,2,4,8,9,2]\n",
    "#li2 = [2,5,6,3]\n",
    "#lists_old = [li1,li2]\n",
    "\n"
   ]
  },
  {
   "cell_type": "code",
   "execution_count": 360,
   "id": "ea0120f4",
   "metadata": {},
   "outputs": [
    {
     "data": {
      "text/plain": [
       "[[2, 3, 4, 5, 0, 0, 0], [6, 7, 8, 9, 3, 6, 2]]"
      ]
     },
     "execution_count": 360,
     "metadata": {},
     "output_type": "execute_result"
    }
   ],
   "source": [
    "append_zero_for_list(lists_old)\n",
    "lists_old"
   ]
  },
  {
   "cell_type": "markdown",
   "id": "0c7047a9",
   "metadata": {},
   "source": [
    "# A function which adds the elements of the two lists and sends the carry to next number if the sum of the elements of the lists are > 10"
   ]
  },
  {
   "cell_type": "code",
   "execution_count": 356,
   "id": "729d02b8",
   "metadata": {},
   "outputs": [],
   "source": [
    "def calculate_two_sum(lists_old):\n",
    "    #list_new = append_zero_for_list(lists_old)\n",
    "    #display(list_new)\n",
    "    l1 = lists_old[0]\n",
    "    display(l1)\n",
    "    l2 = lists_old[1]\n",
    "    display(l2)\n",
    "    l3 = []\n",
    "    carry = 0\n",
    "    for i in range(0,len(l1)):\n",
    "        l = l1[i] + l2[i] + carry\n",
    "        digit = l % 10\n",
    "        carry = l//10\n",
    "        \n",
    "        l3.append(digit)\n",
    "    return l3"
   ]
  },
  {
   "cell_type": "code",
   "execution_count": 357,
   "id": "f2360037",
   "metadata": {},
   "outputs": [
    {
     "data": {
      "text/plain": [
       "[1, 2, 4, 8, 9, 2]"
      ]
     },
     "metadata": {},
     "output_type": "display_data"
    },
    {
     "data": {
      "text/plain": [
       "[2, 5, 6, 3, 0, 0]"
      ]
     },
     "metadata": {},
     "output_type": "display_data"
    },
    {
     "data": {
      "text/plain": [
       "[3, 7, 0, 2, 0, 3]"
      ]
     },
     "execution_count": 357,
     "metadata": {},
     "output_type": "execute_result"
    }
   ],
   "source": [
    "calculate_two_sum(lists_old)"
   ]
  },
  {
   "cell_type": "code",
   "execution_count": null,
   "id": "56cf8df3",
   "metadata": {},
   "outputs": [],
   "source": []
  },
  {
   "cell_type": "code",
   "execution_count": null,
   "id": "fdf3c3ea",
   "metadata": {},
   "outputs": [],
   "source": []
  },
  {
   "cell_type": "code",
   "execution_count": null,
   "id": "ee2453d1",
   "metadata": {},
   "outputs": [],
   "source": []
  }
 ],
 "metadata": {
  "kernelspec": {
   "display_name": "Python 3",
   "language": "python",
   "name": "python3"
  },
  "language_info": {
   "codemirror_mode": {
    "name": "ipython",
    "version": 3
   },
   "file_extension": ".py",
   "mimetype": "text/x-python",
   "name": "python",
   "nbconvert_exporter": "python",
   "pygments_lexer": "ipython3",
   "version": "3.8.8"
  }
 },
 "nbformat": 4,
 "nbformat_minor": 5
}
